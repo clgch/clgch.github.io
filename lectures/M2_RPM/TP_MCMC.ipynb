{
 "cells": [
  {
   "cell_type": "code",
   "execution_count": 1,
   "id": "5d258778-7506-41c1-9af9-73a238580f8d",
   "metadata": {},
   "outputs": [],
   "source": [
    "import numpy as np\n",
    "import matplotlib.pyplot as plt "
   ]
  },
  {
   "cell_type": "markdown",
   "id": "c3d46cf1-7ed1-4e99-a639-875015ac09f7",
   "metadata": {},
   "source": [
    "# Exercice 1 : Algorithme de Metropolis-Hastings\n"
   ]
  },
  {
   "cell_type": "code",
   "execution_count": 2,
   "id": "89890520-7be9-4e7a-a62b-cb7c8c848445",
   "metadata": {},
   "outputs": [],
   "source": [
    "def loi_normale(x):\n",
    "    return np.exp(- 0.5 * x ** 2)\n",
    "\n",
    "def MetropolisHastings(n=1000, alpha=0.5):\n",
    "    chain = np.zeros(n)\n",
    "    accept_ratio = np.zeros(n)\n",
    "    x = 0.0 \n",
    "    old_lik = loi_normale(x)\n",
    "    chain[0] = x \n",
    "    accept_ratio[0] = 1.\n",
    "    for i in range(1, n):\n",
    "        innov = np.random.uniform(-alpha, alpha, 1)\n",
    "        candidate = x + innov \n",
    "        \n",
    "        lik = loi_normale(candidate)\n",
    "        lik_ratio = lik / old_lik \n",
    "        \n",
    "        accept_ratio = min(1, lik_ratio)\n",
    "        u = np.random.uniform(size=1)\n",
    "        if u < lik_ratio:\n",
    "            x = candidate \n",
    "            old_lik = lik \n",
    "        chain[i] = x\n",
    "    return chain \n",
    "    "
   ]
  },
  {
   "cell_type": "code",
   "execution_count": null,
   "id": "e9b85618-e4e0-4485-a8ca-9a8aa18b936c",
   "metadata": {},
   "outputs": [],
   "source": [
    "# Trace d'une chaîne de taille 10.000 et de alpha=0.5 \n",
    "\n",
    "chain = MetropolisHastings(n=10000, alpha=0.5)\n",
    "\n",
    "# TODO: Affichez la trace de la chaine avec Matplotlib"
   ]
  },
  {
   "cell_type": "code",
   "execution_count": null,
   "id": "22c27fdf-f423-4c19-a404-1a441e621722",
   "metadata": {},
   "outputs": [],
   "source": [
    "# TODO: affichez l'autocorrelation de la chaîne avec un lag maximal de 100 \n"
   ]
  },
  {
   "cell_type": "markdown",
   "id": "b1400593-ff1e-4297-b2b0-75896bad510a",
   "metadata": {},
   "source": [
    "# Exercice 2 : Estimation Bayésienne en imagerie TEP"
   ]
  },
  {
   "cell_type": "code",
   "execution_count": null,
   "id": "a7dfec8c",
   "metadata": {},
   "outputs": [],
   "source": [
    "#TODO: Calculez la vraisemblance du modèle \n",
    "\n",
    "def likelihood(y, lmbd, p):\n",
    "        \"\"\"\n",
    "    Calculate the likelihood of the observed data under a mixture of Poisson distributions.\n",
    "\n",
    "    Parameters:\n",
    "    y (array-like): An array of observed counts.\n",
    "    lmbd (array-like): An array of Poisson rates (lambda values) for each mixture component.\n",
    "    p (2D array-like): A 2D array of mixing proportions, where each row corresponds to an observation and \n",
    "                       each column corresponds to a mixture component.\n",
    "\n",
    "    Returns:\n",
    "    float: The likelihood of the observed data given the mixture model parameters.\n",
    "    \"\"\"\n",
    "    return 0"
   ]
  },
  {
   "cell_type": "code",
   "execution_count": null,
   "id": "f5f7d961",
   "metadata": {},
   "outputs": [],
   "source": [
    "p1 = np.load(\"p1.npy\")\n",
    "p2 = np.load(\"p2.npy\")\n",
    "y = np.load(\"y.npy\")\n",
    "\n",
    "p = np.hstack((p1.reshape(-1, 1), p2.reshape(-1, 1)))\n",
    "lmbd = np.array([5, 100])\n",
    "\n",
    "likelihood(y, lmbd, p)"
   ]
  },
  {
   "cell_type": "code",
   "execution_count": null,
   "id": "fce510d0",
   "metadata": {},
   "outputs": [],
   "source": [
    "from scipy.stats import gamma\n",
    "\n",
    "def postfunc(lmbd, y, a, b, p):\n",
    "       \"\"\"\n",
    "    Calculate the posterior function for a mixture of Poisson distributions with Gamma priors.\n",
    "\n",
    "    Parameters:\n",
    "    lmbd (array-like): An array of Poisson rates (lambda values) for each mixture component.\n",
    "    y (array-like): An array of observed counts.\n",
    "    a (array-like): An array of shape parameters for the Gamma priors on the Poisson rates.\n",
    "    b (float): The rate parameter for the Gamma priors (assumed to be the same for all components).\n",
    "    p (2D array-like): A 2D array of mixing proportions, where each row corresponds to an observation and \n",
    "                       each column corresponds to a mixture component.\n",
    "\n",
    "    Returns:\n",
    "    float: The posterior probability calculated as the product of the likelihood and the Gamma priors.\n",
    "    \"\"\"\n",
    "   return 0"
   ]
  },
  {
   "cell_type": "code",
   "execution_count": null,
   "id": "97ea05c2",
   "metadata": {},
   "outputs": [],
   "source": [
    "a = np.array([2, 2])\n",
    "b = np.array([1, 1])\n",
    "\n",
    "postfunc(lmbd, y, a, b, p)"
   ]
  },
  {
   "cell_type": "code",
   "execution_count": null,
   "id": "f3345da7",
   "metadata": {},
   "outputs": [],
   "source": [
    "def metropolis_hastings_TEP(target_pdf, initial_value, iterations, proposal_std, y, a, b, p):\n",
    "    \"\"\"\n",
    "    Perform Metropolis-Hastings sampling.\n",
    "\n",
    "    Parameters:\n",
    "    target_pdf (function): The target probability density function to sample from.\n",
    "    initial_value (float): The starting point for the sampling.\n",
    "    iterations (int): Number of iterations to run the algorithm.\n",
    "    proposal_std (float): Standard deviation of the proposal distribution (usually Gaussian).\n",
    "\n",
    "    Returns:\n",
    "    samples (ndarray): Array of samples drawn from the target distribution.\n",
    "    \"\"\"\n",
    "    return 0"
   ]
  },
  {
   "cell_type": "code",
   "execution_count": null,
   "id": "b7b6b16a",
   "metadata": {},
   "outputs": [],
   "source": [
    "initial_value = 1.0\n",
    "iterations = 10000\n",
    "proposal_std = 1\n",
    "a = np.array([2, 2])\n",
    "b = np.array([1, 1])\n",
    "\n",
    "samples = metropolis_hastings_TEP(postfunc, initial_value, iterations, proposal_std, y, a, b, p)"
   ]
  }
 ],
 "metadata": {
  "kernelspec": {
   "display_name": "Python 3 (ipykernel)",
   "language": "python",
   "name": "python3"
  },
  "language_info": {
   "codemirror_mode": {
    "name": "ipython",
    "version": 3
   },
   "file_extension": ".py",
   "mimetype": "text/x-python",
   "name": "python",
   "nbconvert_exporter": "python",
   "pygments_lexer": "ipython3",
   "version": "3.10.12"
  }
 },
 "nbformat": 4,
 "nbformat_minor": 5
}
